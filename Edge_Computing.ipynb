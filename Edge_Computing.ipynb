{
  "nbformat": 4,
  "nbformat_minor": 0,
  "metadata": {
    "colab": {
      "name": "Edge Computing.ipynb",
      "provenance": [],
      "collapsed_sections": [],
      "authorship_tag": "ABX9TyMC1W8hewymRGGlDJFdP8Ob",
      "include_colab_link": true
    },
    "kernelspec": {
      "name": "python3",
      "display_name": "Python 3"
    },
    "language_info": {
      "name": "python"
    }
  },
  "cells": [
    {
      "cell_type": "markdown",
      "metadata": {
        "id": "view-in-github",
        "colab_type": "text"
      },
      "source": [
        "<a href=\"https://colab.research.google.com/github/ruchithareddy058/Edge-Computing/blob/master/Edge_Computing.ipynb\" target=\"_parent\"><img src=\"https://colab.research.google.com/assets/colab-badge.svg\" alt=\"Open In Colab\"/></a>"
      ]
    },
    {
      "cell_type": "code",
      "metadata": {
        "id": "Wo84PZkcvzYe"
      },
      "source": [
        "!git clone https://github.com/ruchithareddy058/Edge-Computing.git\n"
      ],
      "execution_count": null,
      "outputs": []
    },
    {
      "cell_type": "code",
      "metadata": {
        "id": "f6M4i_Qpv8jl"
      },
      "source": [
        "%cd Edge-Computing"
      ],
      "execution_count": null,
      "outputs": []
    },
    {
      "cell_type": "code",
      "metadata": {
        "id": "QtOvTIdkv_Q5"
      },
      "source": [
        "!gdown https://drive.google.com/uc?id=188COTDT1ILKMOHyNnX74yxIdNIw2xKH1\n",
        "!unzip models.zip"
      ],
      "execution_count": null,
      "outputs": []
    },
    {
      "cell_type": "code",
      "metadata": {
        "id": "iZhEoNCFwC99"
      },
      "source": [
        "import cv2 as cv\n",
        "import math\n",
        "import time\n",
        "from google.colab.patches import cv2_imshow"
      ],
      "execution_count": null,
      "outputs": []
    },
    {
      "cell_type": "code",
      "metadata": {
        "id": "UnqRrY0hwUwQ"
      },
      "source": [
        "def getFaceBox(net, frame, conf_threshold=0.7):\n",
        "    frameOpencvDnn = frame.copy()\n",
        "    frameHeight = frameOpencvDnn.shape[0]\n",
        "    frameWidth = frameOpencvDnn.shape[1]\n",
        "    blob = cv.dnn.blobFromImage(frameOpencvDnn, 1.0, (300, 300), [104, 117, 123], True, False)\n",
        "\n",
        "    net.setInput(blob)\n",
        "    detections = net.forward()\n",
        "    bboxes = []\n",
        "    for i in range(detections.shape[2]):\n",
        "        confidence = detections[0, 0, i, 2]\n",
        "        if confidence > conf_threshold:\n",
        "            x1 = int(detections[0, 0, i, 3] * frameWidth)\n",
        "            y1 = int(detections[0, 0, i, 4] * frameHeight)\n",
        "            x2 = int(detections[0, 0, i, 5] * frameWidth)\n",
        "            y2 = int(detections[0, 0, i, 6] * frameHeight)\n",
        "            bboxes.append([x1, y1, x2, y2])\n",
        "            cv.rectangle(frameOpencvDnn, (x1, y1), (x2, y2), (0, 255, 0), int(round(frameHeight/150)), 8)\n",
        "    return frameOpencvDnn, bboxes\n",
        "\n",
        "faceProto = \"models/opencv_face_detector.pbtxt\"\n",
        "faceModel = \"models/opencv_face_detector_uint8.pb\"\n",
        "\n",
        "ageProto = \"models/age_deploy.prototxt\"\n",
        "ageModel = \"models/age_net.caffemodel\"\n",
        "\n",
        "genderProto = \"models/gender_deploy.prototxt\"\n",
        "genderModel = \"models/gender_net.caffemodel\"\n",
        "\n",
        "MODEL_MEAN_VALUES = (78.4263377603, 87.7689143744, 114.895847746)\n",
        "ageList = ['(0-2)', '(4-6)', '(8-12)', '(15-20)', '(25-32)', '(38-43)', '(48-53)', '(60-100)']\n",
        "genderList = ['Male', 'Female']\n",
        "\n",
        "# Load network\n",
        "ageNet = cv.dnn.readNet(ageModel, ageProto)\n",
        "genderNet = cv.dnn.readNet(genderModel, genderProto)\n",
        "faceNet = cv.dnn.readNet(faceModel, faceProto)\n",
        "\n",
        "padding = 20\n",
        "\n",
        "def age_gender_detector(frame):\n",
        "    # Read frame\n",
        "    t = time.time()\n",
        "    frameFace, bboxes = getFaceBox(faceNet, frame)\n",
        "    for bbox in bboxes:\n",
        "        # print(bbox)\n",
        "        face = frame[max(0,bbox[1]-padding):min(bbox[3]+padding,frame.shape[0]-1),max(0,bbox[0]-padding):min(bbox[2]+padding, frame.shape[1]-1)]\n",
        "\n",
        "        blob = cv.dnn.blobFromImage(face, 1.0, (227, 227), MODEL_MEAN_VALUES, swapRB=False)\n",
        "        genderNet.setInput(blob)\n",
        "        genderPreds = genderNet.forward()\n",
        "        gender = genderList[genderPreds[0].argmax()]\n",
        "        ageNet.setInput(blob)\n",
        "        agePreds = ageNet.forward()\n",
        "        age = ageList[agePreds[0].argmax()]\n",
        "\n",
        "        label = \"{},{}\".format(gender, age)\n",
        "        cv.putText(frameFace, label, (bbox[0], bbox[1]-10), cv.FONT_HERSHEY_SIMPLEX, 0.8, (0, 255, 255), 2, cv.LINE_AA)\n",
        "    return frameFace"
      ],
      "execution_count": null,
      "outputs": []
    },
    {
      "cell_type": "code",
      "metadata": {
        "id": "7NGcK5LTwHN6"
      },
      "source": [
        "input = cv.imread(\"image1.jpg\")\n",
        "output = age_gender_detector(input)\n",
        "cv2_imshow(output)"
      ],
      "execution_count": null,
      "outputs": []
    },
    {
      "cell_type": "code",
      "metadata": {
        "id": "x_X-KYQJwdjT"
      },
      "source": [
        "from IPython.display import display, Javascript\n",
        "from google.colab.output import eval_js\n",
        "from base64 import b64decode\n",
        "\n",
        "def take_photo(filename='photo.jpg', quality=0.8):\n",
        "  js = Javascript('''\n",
        "    async function takePhoto(quality) {\n",
        "      const div = document.createElement('div');\n",
        "      const capture = document.createElement('button');\n",
        "      capture.textContent = 'Capture';\n",
        "      div.appendChild(capture);\n",
        "\n",
        "      const video = document.createElement('video');\n",
        "      video.style.display = 'block';\n",
        "      const stream = await navigator.mediaDevices.getUserMedia({video: true});\n",
        "\n",
        "      document.body.appendChild(div);\n",
        "      div.appendChild(video);\n",
        "      video.srcObject = stream;\n",
        "      await video.play();\n",
        "\n",
        "      // Resize the output to fit the video element.\n",
        "      google.colab.output.setIframeHeight(document.documentElement.scrollHeight, true);\n",
        "\n",
        "      // Wait for Capture to be clicked.\n",
        "      await new Promise((resolve) => capture.onclick = resolve);\n",
        "\n",
        "      const canvas = document.createElement('canvas');\n",
        "      canvas.width = video.videoWidth;\n",
        "      canvas.height = video.videoHeight;\n",
        "      canvas.getContext('2d').drawImage(video, 0, 0);\n",
        "      stream.getVideoTracks()[0].stop();\n",
        "      div.remove();\n",
        "      return canvas.toDataURL('image/jpeg', quality);\n",
        "    }\n",
        "    ''')\n",
        "  display(js)\n",
        "  data = eval_js('takePhoto({})'.format(quality))\n",
        "  binary = b64decode(data.split(',')[1])\n",
        "  with open(filename, 'wb') as f:\n",
        "    f.write(binary)\n",
        "  return filename"
      ],
      "execution_count": null,
      "outputs": []
    },
    {
      "cell_type": "code",
      "metadata": {
        "id": "YY4KIq_rwdjW"
      },
      "source": [
        "from IPython.display import Image\n",
        "try:\n",
        "  filename = take_photo()\n",
        "  print('Saved to {}'.format(filename))\n",
        "  \n",
        "  # Show the image which was just taken.\n",
        "  display(Image(filename))\n",
        "except Exception as err:\n",
        "  # Errors will be thrown if the user does not have a webcam or if they do not\n",
        "  # grant the page permission to access it.\n",
        "  print(str(err))"
      ],
      "execution_count": null,
      "outputs": []
    },
    {
      "cell_type": "code",
      "metadata": {
        "id": "xQoGcvyOwjqd"
      },
      "source": [
        "input = cv.imread(\"photo.jpg\")\n",
        "output = age_gender_detector(input)\n",
        "cv2_imshow(output)"
      ],
      "execution_count": null,
      "outputs": []
    }
  ]
}